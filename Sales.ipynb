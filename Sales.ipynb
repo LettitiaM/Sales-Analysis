{
 "cells": [
  {
   "cell_type": "code",
   "execution_count": null,
   "metadata": {},
   "outputs": [],
   "source": [
    "import pandas as pd\n",
    "import numpy as np\n",
    "import matplotlib.pyplot as plt\n",
    "import seaborn as sns\n",
    "%matplotlib inline\n",
    "import plotly.subplots as sp\n",
    "from plotly.offline import init_notebook_mode, iplot\n",
    "init_notebook_mode(connected=True)\n",
    "import plotly.graph_objects as go\n",
    "import plotly.graph_objects as go\n",
    "from plotly.subplots import make_subplots\n",
    "import plotly.express as px\n",
    "pd.set_option('display.max_columns', None)"
   ]
  },
  {
   "cell_type": "markdown",
   "metadata": {},
   "source": [
    "## Loading Data"
   ]
  },
  {
   "cell_type": "code",
   "execution_count": null,
   "metadata": {},
   "outputs": [],
   "source": [
    "Sales = pd.read_csv('sales_data.csv')\n",
    "pd.set_option('display.max_columns', None)\n",
    "\n",
    "Sales"
   ]
  },
  {
   "cell_type": "code",
   "execution_count": null,
   "metadata": {},
   "outputs": [],
   "source": [
    "## Function to clean catetory\n",
    "def category(column):\n",
    "    if column=='Vêtements':\n",
    "        return 'Clothing'\n",
    "    elif column=='Électronique':\n",
    "        return 'Electronics'\n",
    "    \n",
    "    else:\n",
    "        return column\n"
   ]
  },
  {
   "cell_type": "code",
   "execution_count": null,
   "metadata": {},
   "outputs": [],
   "source": [
    "Sales.columns"
   ]
  },
  {
   "cell_type": "code",
   "execution_count": null,
   "metadata": {},
   "outputs": [],
   "source": [
    "Sales['catégorie']=Sales['catégorie'].apply(category)"
   ]
  },
  {
   "cell_type": "code",
   "execution_count": null,
   "metadata": {},
   "outputs": [],
   "source": [
    "Sales.replace('Vêtements', 'Clothing')"
   ]
  },
  {
   "cell_type": "code",
   "execution_count": null,
   "metadata": {},
   "outputs": [],
   "source": [
    "Sales.rename({'catégorie': 'Category'}, axis=1, inplace=True)"
   ]
  },
  {
   "cell_type": "code",
   "execution_count": null,
   "metadata": {},
   "outputs": [],
   "source": [
    "Sales['Category'].unique()"
   ]
  },
  {
   "cell_type": "markdown",
   "metadata": {},
   "source": [
    "## Data Cleaning"
   ]
  },
  {
   "cell_type": "code",
   "execution_count": null,
   "metadata": {},
   "outputs": [],
   "source": [
    "def missing_values_analysis(Sales):\n",
    "    na_columns = [col for col in Sales.columns if Sales[col].isnull().sum()>0]\n",
    "    n_miss = Sales[na_columns].isnull().sum().sort_values(ascending=True)\n",
    "    ratio = (Sales[na_columns].isnull().sum()/ Sales.shape[0]*100).sort_values(ascending=True)\n",
    "    missing_df = pd.concat([n_miss, np.round(ratio,2)],axis =1, keys=['Missing Values','Ratio'])\n",
    "    missing_df =pd.DataFrame(missing_df)\n",
    "    return missing_df\n",
    "\n",
    "def check_dataframe(Sales, head=5, tail=5):\n",
    "        print('SHAPE'.center(82,'~'))\n",
    "        print('Rows:{}'.format(Sales.shape[0]))\n",
    "        print('Columns:{}'.format(Sales.shape[1]))\n",
    "        print('TYPES')\n",
    "        print(Sales.dtypes)\n",
    "        print(\"\".center(82,'~'))\n",
    "        print(missing_values_analysis(Sales))\n",
    "        print('DUPLICATED VALUES'.center(83,'~'))\n",
    "        print(Sales.duplicated().sum())\n",
    "        print('QUANTILES'.center(82,'~'))\n",
    "        print(Sales.quantile([0, 0.05, 0.50, 0.99,1]).T)\n",
    "\n",
    "check_dataframe(Sales)"
   ]
  },
  {
   "cell_type": "code",
   "execution_count": null,
   "metadata": {},
   "outputs": [],
   "source": [
    "#Change date to datetime\n",
    "Sales['Order Date'] = pd.to_datetime(Sales['Order Date'])"
   ]
  },
  {
   "cell_type": "code",
   "execution_count": null,
   "metadata": {},
   "outputs": [],
   "source": [
    "#Values for each column\n",
    "def check_class(dataframe):\n",
    "    nunique_df =pd.DataFrame({'Variables': dataframe.columns,\n",
    "                              'Classes':[dataframe[i].nunique() \\\n",
    "                                for i in dataframe.columns]})\n",
    "    nunique_df = nunique_df.sort_values('Classes',ascending = False)\n",
    "    nunique_df = nunique_df.reset_index(drop = True)\n",
    "    return nunique_df\n",
    "\n",
    "check_class(Sales)"
   ]
  },
  {
   "cell_type": "markdown",
   "metadata": {},
   "source": [
    "## EDA"
   ]
  },
  {
   "cell_type": "code",
   "execution_count": null,
   "metadata": {},
   "outputs": [],
   "source": [
    "#Distribution of each category\n",
    "sns.pairplot(Sales)"
   ]
  },
  {
   "cell_type": "code",
   "execution_count": null,
   "metadata": {},
   "outputs": [],
   "source": [
    "constraints = ['#B34D22', '#EBE00C']\n",
    "\n",
    "def categorical_variable_summary(Sales, Category):\n",
    "    fig = make_subplots(rows=1, cols=2,  # 1 row, 2 columns\n",
    "                        subplot_titles=('Countplot', 'Percentage'),\n",
    "                        specs=[[{'type': 'xy'}, {'type': 'domain'}]])\n",
    "    \n",
    "    fig.add_trace(go.Bar(y=Sales[Category].value_counts().values.tolist(),\n",
    "                         x=[str(i) for i in Sales[Category].value_counts().index],\n",
    "                         textfont=dict(size=14),\n",
    "                         name='Category',\n",
    "                         textposition='auto',\n",
    "                         showlegend=False,\n",
    "                         marker=dict(color=constraints[0])),  # Use the first color in 'constraints'\n",
    "                   row=1, col=1)\n",
    "    \n",
    "    fig.add_trace(go.Pie(labels=Sales[Category].value_counts().keys(),\n",
    "                         values=Sales[Category].value_counts().values,\n",
    "                         textfont=dict(size=20),\n",
    "                         textposition='auto',\n",
    "                         showlegend=False,\n",
    "                         name='Category',\n",
    "                         marker=dict(colors=constraints)),  \n",
    "                  row=1, col=2)\n",
    "    \n",
    "    fig.update_layout(title={'text': Category,\n",
    "                             'y': 0.9,\n",
    "                             'x': 0.5,\n",
    "                             'xanchor': 'center',\n",
    "                             'yanchor': 'top'},\n",
    "                      template='plotly_white')  \n",
    "    \n",
    "    # Use display() to show the plot in Jupyter Notebook\n",
    "    display(fig)    "
   ]
  },
  {
   "cell_type": "code",
   "execution_count": null,
   "metadata": {},
   "outputs": [],
   "source": [
    "categorical_variable_summary(Sales,'Category')"
   ]
  },
  {
   "cell_type": "code",
   "execution_count": null,
   "metadata": {},
   "outputs": [],
   "source": [
    "#Products under Alimentation\n",
    "Alimentation = Sales.loc[Sales['Category'] =='Alimentation']\n",
    "\n",
    "Alimentation\n"
   ]
  },
  {
   "cell_type": "code",
   "execution_count": null,
   "metadata": {},
   "outputs": [],
   "source": [
    "Alimentation.describe()"
   ]
  },
  {
   "cell_type": "code",
   "execution_count": null,
   "metadata": {},
   "outputs": [],
   "source": [
    "#check the Ordered product \n",
    "\n",
    "fig = go.Figure()\n",
    "\n",
    "\n",
    "fig.add_trace(go.Bar(\n",
    "    y=Alimentation['Product'].value_counts().values.tolist(),\n",
    "    x=[str(i) for i in Alimentation['Product'].value_counts().index],\n",
    "    textfont=dict(size=14),\n",
    "    name='Product',\n",
    "    textposition='auto',\n",
    "    showlegend=False,\n",
    "    marker=dict(color=constraints[0])\n",
    "))\n",
    "\n",
    "# Display the figure\n",
    "fig.show()\n",
    "\n"
   ]
  },
  {
   "cell_type": "code",
   "execution_count": null,
   "metadata": {},
   "outputs": [],
   "source": [
    "Alimentation.info()"
   ]
  },
  {
   "cell_type": "code",
   "execution_count": null,
   "metadata": {},
   "outputs": [],
   "source": [
    "Alimentation"
   ]
  },
  {
   "cell_type": "code",
   "execution_count": null,
   "metadata": {},
   "outputs": [],
   "source": [
    "# Striping Month to chech the turnover of the Alimentation Products by months\n",
    "Alimentation['Month'] = Alimentation['Order Date'].dt.month_name()\n"
   ]
  },
  {
   "cell_type": "code",
   "execution_count": null,
   "metadata": {},
   "outputs": [],
   "source": [
    "# Month with most Alimentation orders \n",
    "Most = Alimentation['Month'].value_counts().sort_values()\n",
    "\n",
    "Most\n",
    "\n"
   ]
  },
  {
   "cell_type": "code",
   "execution_count": null,
   "metadata": {},
   "outputs": [],
   "source": [
    "Most.plot(kind=\"bar\", title=\"Monthly Orders\")\n",
    "# Rotate the x-labels by 30 degrees, and keep the text aligned horizontally\n",
    "plt.xticks(rotation=30, horizontalalignment=\"center\")\n",
    "plt.title(\"Orders By each Month\")\n",
    "plt.xlabel(\"Month\")\n",
    "plt.ylabel(\"Number of orderes\")"
   ]
  },
  {
   "cell_type": "code",
   "execution_count": null,
   "metadata": {},
   "outputs": [],
   "source": [
    "#Ordered the most in December\n",
    "Most_Ord = Alimentation.loc[Alimentation['Month'] == 'December']\n",
    "Product_ = Most_Ord['Product'].value_counts()\n",
    "\n",
    "Product_"
   ]
  },
  {
   "cell_type": "code",
   "execution_count": null,
   "metadata": {},
   "outputs": [],
   "source": [
    "#Turnover for each product ordered in December \n",
    "fig = px.line(Most_Ord, x=\"\", y=\"turnover\", title='Turnover of each month')\n",
    "fig.show()"
   ]
  },
  {
   "cell_type": "code",
   "execution_count": null,
   "metadata": {},
   "outputs": [],
   "source": [
    "#Margin for each Product in December"
   ]
  },
  {
   "cell_type": "code",
   "execution_count": null,
   "metadata": {},
   "outputs": [],
   "source": [
    "# "
   ]
  }
 ],
 "metadata": {
  "kernelspec": {
   "display_name": "base",
   "language": "python",
   "name": "python3"
  },
  "language_info": {
   "codemirror_mode": {
    "name": "ipython",
    "version": 3
   },
   "file_extension": ".py",
   "mimetype": "text/x-python",
   "name": "python",
   "nbconvert_exporter": "python",
   "pygments_lexer": "ipython3",
   "version": "3.10.9"
  },
  "orig_nbformat": 4
 },
 "nbformat": 4,
 "nbformat_minor": 2
}
